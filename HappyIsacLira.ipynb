{
 "cells": [
  {
   "cell_type": "code",
   "execution_count": 49,
   "metadata": {
    "collapsed": true
   },
   "outputs": [],
   "source": [
    "import pandas as pd\n",
    "import numpy as np\n",
    "import matplotlib.pyplot as plt\n",
    "import seaborn.apionly as sns\n",
    "from sklearn.linear_model import LogisticRegressionCV,LogisticRegression\n",
    "from sklearn.svm import SVC\n",
    "from sklearn.neighbors import KNeighborsClassifier\n",
    "from sklearn.metrics import classification_report\n",
    "from sklearn.model_selection import GridSearchCV,KFold,train_test_split\n",
    "from sklearn.decomposition import PCA\n",
    "from sklearn.feature_selection import RFE,SelectKBest\n",
    "from sklearn.preprocessing import PolynomialFeatures,Imputer,MinMaxScaler\n",
    "%matplotlib inline\n",
    "sns.set_context('talk')\n",
    "sns.set_style('dark')"
   ]
  },
  {
   "cell_type": "code",
   "execution_count": 424,
   "metadata": {},
   "outputs": [
    {
     "data": {
      "text/html": [
       "<div>\n",
       "<style>\n",
       "    .dataframe thead tr:only-child th {\n",
       "        text-align: right;\n",
       "    }\n",
       "\n",
       "    .dataframe thead th {\n",
       "        text-align: left;\n",
       "    }\n",
       "\n",
       "    .dataframe tbody tr th {\n",
       "        vertical-align: top;\n",
       "    }\n",
       "</style>\n",
       "<table border=\"1\" class=\"dataframe\">\n",
       "  <thead>\n",
       "    <tr style=\"text-align: right;\">\n",
       "      <th></th>\n",
       "      <th>UserID</th>\n",
       "      <th>YOB</th>\n",
       "      <th>Gender</th>\n",
       "      <th>Income</th>\n",
       "      <th>HouseholdStatus</th>\n",
       "      <th>EducationLevel</th>\n",
       "      <th>Party</th>\n",
       "      <th>Happy</th>\n",
       "      <th>Q124742</th>\n",
       "      <th>Q124122</th>\n",
       "      <th>...</th>\n",
       "      <th>Q100010</th>\n",
       "      <th>Q99716</th>\n",
       "      <th>Q99581</th>\n",
       "      <th>Q99480</th>\n",
       "      <th>Q98869</th>\n",
       "      <th>Q98578</th>\n",
       "      <th>Q98059</th>\n",
       "      <th>Q98078</th>\n",
       "      <th>Q98197</th>\n",
       "      <th>Q96024</th>\n",
       "    </tr>\n",
       "  </thead>\n",
       "  <tbody>\n",
       "    <tr>\n",
       "      <th>0</th>\n",
       "      <td>2</td>\n",
       "      <td>1985.0</td>\n",
       "      <td>Female</td>\n",
       "      <td>$25,001 - $50,000</td>\n",
       "      <td>Single (no kids)</td>\n",
       "      <td>Master's Degree</td>\n",
       "      <td>Democrat</td>\n",
       "      <td>1</td>\n",
       "      <td>NaN</td>\n",
       "      <td>Yes</td>\n",
       "      <td>...</td>\n",
       "      <td>NaN</td>\n",
       "      <td>NaN</td>\n",
       "      <td>NaN</td>\n",
       "      <td>NaN</td>\n",
       "      <td>Yes</td>\n",
       "      <td>NaN</td>\n",
       "      <td>NaN</td>\n",
       "      <td>NaN</td>\n",
       "      <td>NaN</td>\n",
       "      <td>NaN</td>\n",
       "    </tr>\n",
       "    <tr>\n",
       "      <th>1</th>\n",
       "      <td>5</td>\n",
       "      <td>1963.0</td>\n",
       "      <td>Male</td>\n",
       "      <td>over $150,000</td>\n",
       "      <td>Married (w/kids)</td>\n",
       "      <td>NaN</td>\n",
       "      <td>NaN</td>\n",
       "      <td>0</td>\n",
       "      <td>No</td>\n",
       "      <td>Yes</td>\n",
       "      <td>...</td>\n",
       "      <td>Yes</td>\n",
       "      <td>No</td>\n",
       "      <td>Yes</td>\n",
       "      <td>Yes</td>\n",
       "      <td>Yes</td>\n",
       "      <td>Yes</td>\n",
       "      <td>Yes</td>\n",
       "      <td>No</td>\n",
       "      <td>Yes</td>\n",
       "      <td>Yes</td>\n",
       "    </tr>\n",
       "    <tr>\n",
       "      <th>2</th>\n",
       "      <td>8</td>\n",
       "      <td>1991.0</td>\n",
       "      <td>Female</td>\n",
       "      <td>under $25,000</td>\n",
       "      <td>Single (no kids)</td>\n",
       "      <td>Current Undergraduate</td>\n",
       "      <td>NaN</td>\n",
       "      <td>1</td>\n",
       "      <td>Yes</td>\n",
       "      <td>Yes</td>\n",
       "      <td>...</td>\n",
       "      <td>No</td>\n",
       "      <td>No</td>\n",
       "      <td>No</td>\n",
       "      <td>Yes</td>\n",
       "      <td>No</td>\n",
       "      <td>NaN</td>\n",
       "      <td>Yes</td>\n",
       "      <td>No</td>\n",
       "      <td>NaN</td>\n",
       "      <td>NaN</td>\n",
       "    </tr>\n",
       "    <tr>\n",
       "      <th>3</th>\n",
       "      <td>9</td>\n",
       "      <td>1995.0</td>\n",
       "      <td>Male</td>\n",
       "      <td>$75,000 - $100,000</td>\n",
       "      <td>Single (no kids)</td>\n",
       "      <td>Current K-12</td>\n",
       "      <td>Republican</td>\n",
       "      <td>1</td>\n",
       "      <td>NaN</td>\n",
       "      <td>NaN</td>\n",
       "      <td>...</td>\n",
       "      <td>No</td>\n",
       "      <td>No</td>\n",
       "      <td>No</td>\n",
       "      <td>Yes</td>\n",
       "      <td>Yes</td>\n",
       "      <td>No</td>\n",
       "      <td>Yes</td>\n",
       "      <td>No</td>\n",
       "      <td>Yes</td>\n",
       "      <td>Yes</td>\n",
       "    </tr>\n",
       "    <tr>\n",
       "      <th>4</th>\n",
       "      <td>13</td>\n",
       "      <td>1997.0</td>\n",
       "      <td>Female</td>\n",
       "      <td>over $150,000</td>\n",
       "      <td>Single (no kids)</td>\n",
       "      <td>Current K-12</td>\n",
       "      <td>Democrat</td>\n",
       "      <td>0</td>\n",
       "      <td>NaN</td>\n",
       "      <td>NaN</td>\n",
       "      <td>...</td>\n",
       "      <td>NaN</td>\n",
       "      <td>NaN</td>\n",
       "      <td>NaN</td>\n",
       "      <td>NaN</td>\n",
       "      <td>NaN</td>\n",
       "      <td>NaN</td>\n",
       "      <td>NaN</td>\n",
       "      <td>NaN</td>\n",
       "      <td>NaN</td>\n",
       "      <td>NaN</td>\n",
       "    </tr>\n",
       "  </tbody>\n",
       "</table>\n",
       "<p>5 rows × 109 columns</p>\n",
       "</div>"
      ],
      "text/plain": [
       "   UserID     YOB  Gender              Income   HouseholdStatus  \\\n",
       "0       2  1985.0  Female   $25,001 - $50,000  Single (no kids)   \n",
       "1       5  1963.0    Male       over $150,000  Married (w/kids)   \n",
       "2       8  1991.0  Female       under $25,000  Single (no kids)   \n",
       "3       9  1995.0    Male  $75,000 - $100,000  Single (no kids)   \n",
       "4      13  1997.0  Female       over $150,000  Single (no kids)   \n",
       "\n",
       "          EducationLevel       Party  Happy Q124742 Q124122  ...   Q100010  \\\n",
       "0        Master's Degree    Democrat      1     NaN     Yes  ...       NaN   \n",
       "1                    NaN         NaN      0      No     Yes  ...       Yes   \n",
       "2  Current Undergraduate         NaN      1     Yes     Yes  ...        No   \n",
       "3           Current K-12  Republican      1     NaN     NaN  ...        No   \n",
       "4           Current K-12    Democrat      0     NaN     NaN  ...       NaN   \n",
       "\n",
       "  Q99716 Q99581 Q99480 Q98869 Q98578 Q98059 Q98078 Q98197 Q96024  \n",
       "0    NaN    NaN    NaN    Yes    NaN    NaN    NaN    NaN    NaN  \n",
       "1     No    Yes    Yes    Yes    Yes    Yes     No    Yes    Yes  \n",
       "2     No     No    Yes     No    NaN    Yes     No    NaN    NaN  \n",
       "3     No     No    Yes    Yes     No    Yes     No    Yes    Yes  \n",
       "4    NaN    NaN    NaN    NaN    NaN    NaN    NaN    NaN    NaN  \n",
       "\n",
       "[5 rows x 109 columns]"
      ]
     },
     "execution_count": 424,
     "metadata": {},
     "output_type": "execute_result"
    }
   ],
   "source": [
    "# Carrega os dados\n",
    "happy_df = pd.read_csv('MassaDeDados - Use Esta Para Treinar.csv',';')\n",
    "happy_df.head()"
   ]
  },
  {
   "cell_type": "code",
   "execution_count": 426,
   "metadata": {},
   "outputs": [],
   "source": [
    "# Completa os dados faltantes com os valores mais frequentes \n",
    "columns = happy_df.drop(['Happy','UserID'],axis=1).columns\n",
    "\n",
    "for col in columns:\n",
    "    value_counts = happy_df[col].value_counts()\n",
    "    happy_df[col].fillna(value=np.argmax(value_counts),inplace=True)  \n"
   ]
  },
  {
   "cell_type": "code",
   "execution_count": 427,
   "metadata": {},
   "outputs": [
    {
     "data": {
      "text/plain": [
       "(1528, 125)"
      ]
     },
     "execution_count": 427,
     "metadata": {},
     "output_type": "execute_result"
    }
   ],
   "source": [
    "# Transforma as features categóricas em binárias\n",
    "\n",
    "cats = happy_df.drop(['YOB','Happy','UserID'],axis=1).columns\n",
    "dummy_df = pd.get_dummies(columns=cats,data=happy_df,drop_first=True)\n",
    "dummy_df.shape"
   ]
  },
  {
   "cell_type": "code",
   "execution_count": 471,
   "metadata": {},
   "outputs": [],
   "source": [
    "# Divide os dados em treino e teste\n",
    "\n",
    "y = dummy_df['Happy']\n",
    "X = dummy_df.drop(['Happy','UserID'],axis=1)\n",
    "np.random.seed(9001)\n",
    "xtrain,xtest,ytrain,ytest = train_test_split(X,y,train_size=0.7)\n",
    "\n",
    "# Normaliza os dados\n",
    "\n",
    "scaler = MinMaxScaler()\n",
    "xtrain_scaled = scaler.fit_transform(xtrain)\n",
    "xtest_scaled = scaler.transform(xtest)\n"
   ]
  },
  {
   "cell_type": "code",
   "execution_count": 475,
   "metadata": {},
   "outputs": [],
   "source": [
    "# Verifica qual o número de features que melhor explica os dados através de análise de variância\n",
    "\n",
    "scores = []\n",
    "for k in range(1,xtrain.shape[1]):\n",
    "    #divide os dados em treino e validação\n",
    "    selector = SelectKBest(k=k) # Instancia um selector de features\n",
    "    xtraink = selector.fit_transform(xtrain_scaled,ytrain) # Seleciona as k features no data set de treino\n",
    "    xtestk = selector.transform(xtest_scaled)# Seleciona as k features no data set de treino\n",
    "    l = LogisticRegression() # Instancia um clf LogReg\n",
    "    l.fit(xtraink,ytrain) # Treina o classificador\n",
    "    score = l.score(X=xtestk,y=ytest) # Calcula a acurácia\n",
    "    scores.append(score)\n",
    "        "
   ]
  },
  {
   "cell_type": "code",
   "execution_count": 483,
   "metadata": {},
   "outputs": [
    {
     "data": {
      "text/plain": [
       "0.36674300558473583"
      ]
     },
     "execution_count": 483,
     "metadata": {},
     "output_type": "execute_result"
    }
   ],
   "source": [
    "# Seleciona as melhores features\n",
    "best_k = np.argmax(scores)\n",
    "selector = SelectKBest(k=best_k)\n",
    "xtraink = selector.fit_transform(xtrain_scaled,ytrain) # \n",
    "xtestk = selector.transform(xtest_scaled)\n",
    "\n",
    "# Aplica PCA\n",
    "pca = PCA(n_components=17)\n",
    "pca.fit(xtrain_scaled)\n",
    "xtrain_pca = pca.transform(xtrain_scaled)\n",
    "xtest_pca = pca.transform(xtest_scaled)\n",
    "sum(pca.explained_variance_ratio_) #TODO: fazer um plote da VE"
   ]
  },
  {
   "cell_type": "code",
   "execution_count": 477,
   "metadata": {},
   "outputs": [
    {
     "name": "stdout",
     "output_type": "stream",
     "text": [
      "O número de features ideal é : 17\n"
     ]
    }
   ],
   "source": [
    "print('O número de features ideal é :',best_k)"
   ]
  },
  {
   "cell_type": "code",
   "execution_count": 478,
   "metadata": {},
   "outputs": [
    {
     "name": "stdout",
     "output_type": "stream",
     "text": [
      "Treinando uma Regressão Logística com os preditores selecionados...\n",
      " \n",
      "Acurácia de treino:0.69\n",
      "Acurácia de teste:0.69\n"
     ]
    }
   ],
   "source": [
    "# Treina um classificador LogisticRegression com as features selecionadas\n",
    "\n",
    "lr = LogisticRegressionCV()#Instacia uma Regressão Logística\n",
    "print('Treinando uma Regressão Logística com os preditores selecionados...\\n ')\n",
    "\n",
    "# Treina o classificador e seleciona o melhor parâmetro de regularização  por crosvalidação\n",
    "lr.fit(xtraink,ytrain)\n",
    "print(\"Acurácia de treino:{:.2f}\".format(lr.score(xtraink,ytrain)))\n",
    "print(\"Acurácia de teste:{:.2f}\".format(lr.score(xtraink,ytrain)))"
   ]
  },
  {
   "cell_type": "code",
   "execution_count": 485,
   "metadata": {},
   "outputs": [
    {
     "name": "stdout",
     "output_type": "stream",
     "text": [
      "Acurácia de treino:0.67\n",
      "Acurácia de teste:0.67\n"
     ]
    }
   ],
   "source": [
    "# Treina um classificador LogisticRegression\n",
    "\n",
    "lr = LogisticRegressionCV() #Instacia uma Regressão Logística\n",
    "# Treina o classificador e seleciona o melhor parâmetro de regularização  por crosvalidação\n",
    "lr.fit(xtrain_pca,ytrain) \n",
    "print(\"Acurácia de treino:{:.2f}\".format(lr.score(xtrain_pca,ytrain)))\n",
    "print(\"Acurácia de teste:{:.2f}\".format(lr.score(xtrain_pca,ytrain)))\n"
   ]
  },
  {
   "cell_type": "code",
   "execution_count": 502,
   "metadata": {},
   "outputs": [
    {
     "name": "stdout",
     "output_type": "stream",
     "text": [
      "Treinando um classicador SVM com os 17 melhores preditores..\n",
      "\n",
      "Acurácia de treino:0.70\n",
      "Acurácia de teste:0.70\n"
     ]
    }
   ],
   "source": [
    "# Treina um classificador SVM com as features selecionadas\n",
    "\n",
    "vals = [10**i for i in range(-4,3)] # Possíveis valores dos parâmetros\n",
    "param_grid = {'C':vals,'gamma':vals} # Define quais os parâmetros a serem otimizados\n",
    "svmk = GridSearchCV(SVC(kernel='rbf'),param_grid=param_grid,cv=10)# instancia um SVM com kernal gaussiano\n",
    "print('Treinando um classicador SVM com os {} melhores preditores..\\n'.format(best_k))\n",
    "\n",
    "# Aplica crosvalidação para encontrar o melhores parâmetros e treina o classificador\n",
    "svmk.fit(xtraink,ytrain)\n",
    "print(\"Acurácia de treino:{:.2f}\".format(svmk.score(xtraink,ytrain)))\n",
    "print(\"Acurácia de teste:{:.2f}\".format(svmk.score(xtraink,ytrain)))\n"
   ]
  },
  {
   "cell_type": "code",
   "execution_count": 392,
   "metadata": {},
   "outputs": [
    {
     "name": "stdout",
     "output_type": "stream",
     "text": [
      "Treinando um classicador KNN com os 17 melhores preditores..\n",
      "\n",
      "Acurácia de treino:0.70\n",
      "Acurácia de teste:0.70\n"
     ]
    }
   ],
   "source": [
    "# Treina um classificador KNN\n",
    "knn = GridSearchCV(KNeighborsClassifier(),param_grid={'n_neighbors':range(1,30)},cv=5)\n",
    "print('Treinando um classicador KNN com os {} melhores preditores..\\n'.format(best_k))\n",
    "knn.fit(xtraink,ytrain)\n",
    "print(\"Acurácia de treino:{:.2f}\".format(knn.score(xtraink,ytrain)))\n",
    "print(\"Acurácia de teste:{:.2f}\".format(knn.score(xtraink,ytrain)))\n"
   ]
  },
  {
   "cell_type": "code",
   "execution_count": 503,
   "metadata": {},
   "outputs": [],
   "source": [
    "# Carrega os dados cujas classes serão preditas\n",
    "happy_test = pd.read_csv('MassaDeDadosTESTE.csv',';')"
   ]
  },
  {
   "cell_type": "code",
   "execution_count": 504,
   "metadata": {},
   "outputs": [
    {
     "data": {
      "text/html": [
       "<div>\n",
       "<style>\n",
       "    .dataframe thead tr:only-child th {\n",
       "        text-align: right;\n",
       "    }\n",
       "\n",
       "    .dataframe thead th {\n",
       "        text-align: left;\n",
       "    }\n",
       "\n",
       "    .dataframe tbody tr th {\n",
       "        vertical-align: top;\n",
       "    }\n",
       "</style>\n",
       "<table border=\"1\" class=\"dataframe\">\n",
       "  <thead>\n",
       "    <tr style=\"text-align: right;\">\n",
       "      <th></th>\n",
       "      <th>UserID</th>\n",
       "      <th>YOB</th>\n",
       "      <th>Gender</th>\n",
       "      <th>Income</th>\n",
       "      <th>HouseholdStatus</th>\n",
       "      <th>EducationLevel</th>\n",
       "      <th>Party</th>\n",
       "      <th>Happy</th>\n",
       "      <th>Q124742</th>\n",
       "      <th>Q124122</th>\n",
       "      <th>...</th>\n",
       "      <th>Q100010</th>\n",
       "      <th>Q99716</th>\n",
       "      <th>Q99581</th>\n",
       "      <th>Q99480</th>\n",
       "      <th>Q98869</th>\n",
       "      <th>Q98578</th>\n",
       "      <th>Q98059</th>\n",
       "      <th>Q98078</th>\n",
       "      <th>Q98197</th>\n",
       "      <th>Q96024</th>\n",
       "    </tr>\n",
       "  </thead>\n",
       "  <tbody>\n",
       "    <tr>\n",
       "      <th>0</th>\n",
       "      <td>1</td>\n",
       "      <td>1938.0</td>\n",
       "      <td>Male</td>\n",
       "      <td>NaN</td>\n",
       "      <td>Married (w/kids)</td>\n",
       "      <td>NaN</td>\n",
       "      <td>Independent</td>\n",
       "      <td>NaN</td>\n",
       "      <td>No</td>\n",
       "      <td>NaN</td>\n",
       "      <td>...</td>\n",
       "      <td>Yes</td>\n",
       "      <td>No</td>\n",
       "      <td>No</td>\n",
       "      <td>NaN</td>\n",
       "      <td>No</td>\n",
       "      <td>NaN</td>\n",
       "      <td>Only-child</td>\n",
       "      <td>No</td>\n",
       "      <td>No</td>\n",
       "      <td>Yes</td>\n",
       "    </tr>\n",
       "    <tr>\n",
       "      <th>1</th>\n",
       "      <td>6</td>\n",
       "      <td>1997.0</td>\n",
       "      <td>Male</td>\n",
       "      <td>$75,000 - $100,000</td>\n",
       "      <td>Single (no kids)</td>\n",
       "      <td>High School Diploma</td>\n",
       "      <td>Republican</td>\n",
       "      <td>NaN</td>\n",
       "      <td>NaN</td>\n",
       "      <td>Yes</td>\n",
       "      <td>...</td>\n",
       "      <td>Yes</td>\n",
       "      <td>No</td>\n",
       "      <td>No</td>\n",
       "      <td>No</td>\n",
       "      <td>Yes</td>\n",
       "      <td>No</td>\n",
       "      <td>Yes</td>\n",
       "      <td>No</td>\n",
       "      <td>Yes</td>\n",
       "      <td>No</td>\n",
       "    </tr>\n",
       "    <tr>\n",
       "      <th>2</th>\n",
       "      <td>7</td>\n",
       "      <td>1996.0</td>\n",
       "      <td>Male</td>\n",
       "      <td>$50,000 - $74,999</td>\n",
       "      <td>Single (no kids)</td>\n",
       "      <td>Current K-12</td>\n",
       "      <td>NaN</td>\n",
       "      <td>NaN</td>\n",
       "      <td>No</td>\n",
       "      <td>No</td>\n",
       "      <td>...</td>\n",
       "      <td>No</td>\n",
       "      <td>No</td>\n",
       "      <td>No</td>\n",
       "      <td>Yes</td>\n",
       "      <td>Yes</td>\n",
       "      <td>Yes</td>\n",
       "      <td>Yes</td>\n",
       "      <td>No</td>\n",
       "      <td>Yes</td>\n",
       "      <td>Yes</td>\n",
       "    </tr>\n",
       "    <tr>\n",
       "      <th>3</th>\n",
       "      <td>11</td>\n",
       "      <td>1983.0</td>\n",
       "      <td>Male</td>\n",
       "      <td>$100,001 - $150,000</td>\n",
       "      <td>Married (w/kids)</td>\n",
       "      <td>Bachelor's Degree</td>\n",
       "      <td>Independent</td>\n",
       "      <td>NaN</td>\n",
       "      <td>No</td>\n",
       "      <td>Yes</td>\n",
       "      <td>...</td>\n",
       "      <td>No</td>\n",
       "      <td>No</td>\n",
       "      <td>No</td>\n",
       "      <td>Yes</td>\n",
       "      <td>Yes</td>\n",
       "      <td>No</td>\n",
       "      <td>Yes</td>\n",
       "      <td>No</td>\n",
       "      <td>No</td>\n",
       "      <td>Yes</td>\n",
       "    </tr>\n",
       "    <tr>\n",
       "      <th>4</th>\n",
       "      <td>12</td>\n",
       "      <td>1984.0</td>\n",
       "      <td>Female</td>\n",
       "      <td>$50,000 - $74,999</td>\n",
       "      <td>Married (w/kids)</td>\n",
       "      <td>High School Diploma</td>\n",
       "      <td>Republican</td>\n",
       "      <td>NaN</td>\n",
       "      <td>No</td>\n",
       "      <td>Yes</td>\n",
       "      <td>...</td>\n",
       "      <td>Yes</td>\n",
       "      <td>No</td>\n",
       "      <td>No</td>\n",
       "      <td>Yes</td>\n",
       "      <td>No</td>\n",
       "      <td>No</td>\n",
       "      <td>Yes</td>\n",
       "      <td>No</td>\n",
       "      <td>No</td>\n",
       "      <td>Yes</td>\n",
       "    </tr>\n",
       "  </tbody>\n",
       "</table>\n",
       "<p>5 rows × 109 columns</p>\n",
       "</div>"
      ],
      "text/plain": [
       "   UserID     YOB  Gender               Income   HouseholdStatus  \\\n",
       "0       1  1938.0    Male                  NaN  Married (w/kids)   \n",
       "1       6  1997.0    Male   $75,000 - $100,000  Single (no kids)   \n",
       "2       7  1996.0    Male    $50,000 - $74,999  Single (no kids)   \n",
       "3      11  1983.0    Male  $100,001 - $150,000  Married (w/kids)   \n",
       "4      12  1984.0  Female    $50,000 - $74,999  Married (w/kids)   \n",
       "\n",
       "        EducationLevel        Party  Happy Q124742 Q124122  ...   Q100010  \\\n",
       "0                  NaN  Independent    NaN      No     NaN  ...       Yes   \n",
       "1  High School Diploma   Republican    NaN     NaN     Yes  ...       Yes   \n",
       "2         Current K-12          NaN    NaN      No      No  ...        No   \n",
       "3    Bachelor's Degree  Independent    NaN      No     Yes  ...        No   \n",
       "4  High School Diploma   Republican    NaN      No     Yes  ...       Yes   \n",
       "\n",
       "  Q99716 Q99581 Q99480 Q98869 Q98578      Q98059 Q98078 Q98197 Q96024  \n",
       "0     No     No    NaN     No    NaN  Only-child     No     No    Yes  \n",
       "1     No     No     No    Yes     No         Yes     No    Yes     No  \n",
       "2     No     No    Yes    Yes    Yes         Yes     No    Yes    Yes  \n",
       "3     No     No    Yes    Yes     No         Yes     No     No    Yes  \n",
       "4     No     No    Yes     No     No         Yes     No     No    Yes  \n",
       "\n",
       "[5 rows x 109 columns]"
      ]
     },
     "execution_count": 504,
     "metadata": {},
     "output_type": "execute_result"
    }
   ],
   "source": [
    "happy_test.head()"
   ]
  },
  {
   "cell_type": "code",
   "execution_count": 505,
   "metadata": {},
   "outputs": [],
   "source": [
    "# Limpa os dados\n",
    "\n",
    "happy_test = happy_test.drop(['Happy','UserID'],axis=1)\n",
    "columns = happy_test.columns\n",
    "\n",
    "for col in columns:\n",
    "    value_counts = happy_test[col].value_counts()\n",
    "    happy_test[col].fillna(value=np.argmax(value_counts),inplace=True)  \n",
    "\n",
    "\n",
    "dummy_test_df = pd.get_dummies(columns=cats,data=happy_test,drop_first=True)\n",
    "dummy_test_scaled_df =scaler.transform(dummy_test_df)\n",
    "new_df = selector.transform(dummy_test_scaled_df)"
   ]
  },
  {
   "cell_type": "code",
   "execution_count": 506,
   "metadata": {},
   "outputs": [],
   "source": [
    "# Realiza as predições com o classificaor SVM treinando anteriormente\n",
    "predictions = svmk.predict(new_df)"
   ]
  },
  {
   "cell_type": "code",
   "execution_count": 508,
   "metadata": {},
   "outputs": [],
   "source": [
    "out = pd.DataFrame(predictions)\n",
    "out.to_excel('output.xlsx')"
   ]
  },
  {
   "cell_type": "code",
   "execution_count": null,
   "metadata": {
    "collapsed": true
   },
   "outputs": [],
   "source": []
  }
 ],
 "metadata": {
  "kernelspec": {
   "display_name": "Python 3",
   "language": "python",
   "name": "python3"
  },
  "language_info": {
   "codemirror_mode": {
    "name": "ipython",
    "version": 3
   },
   "file_extension": ".py",
   "mimetype": "text/x-python",
   "name": "python",
   "nbconvert_exporter": "python",
   "pygments_lexer": "ipython3",
   "version": "3.6.1"
  }
 },
 "nbformat": 4,
 "nbformat_minor": 2
}
